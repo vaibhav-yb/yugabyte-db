{
 "cells": [
  {
   "cell_type": "markdown",
   "id": "e79cf789",
   "metadata": {},
   "source": [
    "# Create Cloud Provider Configuration\n",
    "### Setup\n",
    "\n",
    "First, import the required packages.\n",
    "\n",
    "Next, specify some important variables:\n",
    "* `platform_address`: The address of the Yugabyte Platform API\n",
    "* `platform_api_key`: The API key used to authenticate with the Platform API\n",
    "\n",
    "Finally, open a HTTP connection to the Yugabyte Platform API."
   ]
  },
  {
   "cell_type": "code",
   "execution_count": 21,
   "id": "0652c532",
   "metadata": {},
   "outputs": [],
   "source": [
    "import configparser\n",
    "import os\n",
    "import http.client\n",
    "import json\n",
    "from pprint import pprint\n",
    "\n",
    "platform_address = os.getenv('API_BASE_URL', \"portal.dev.yugabyte.com\")\n",
    "platform_api_key = os.getenv('YB_API_KEY')\n",
    "\n",
    "conn = http.client.HTTPConnection(f\"{platform_address}\")\n",
    "\n",
    "headers = {\n",
    "  'Content-Type': \"application/json\",\n",
    "  'X-AUTH-YW-API-TOKEN': f\"{platform_api_key}\"\n",
    "}"
   ]
  },
  {
   "cell_type": "markdown",
   "id": "4c631ae0",
   "metadata": {},
   "source": [
    "### Get Session Info\n",
    "\n",
    "Make an API call to session endpoint to determine customer UUID."
   ]
  },
  {
   "cell_type": "code",
   "execution_count": 22,
   "id": "5552424a",
   "metadata": {},
   "outputs": [
    {
     "name": "stdout",
     "output_type": "stream",
     "text": [
      "Customer UUID:\n",
      "11d78d93-1381-4d1d-8393-ba76f47ba7a6\n"
     ]
    }
   ],
   "source": [
    "conn.request(\"GET\", \"/api/v1/session_info\", headers=headers)\n",
    "\n",
    "res = conn.getresponse()\n",
    "data = res.read()\n",
    "session_info = json.loads(data)\n",
    "customer_uuid = session_info['customerUUID']\n",
    "\n",
    "print('Customer UUID:\\n%s' % customer_uuid)"
   ]
  },
  {
   "cell_type": "markdown",
   "id": "cd4c3a17",
   "metadata": {
    "tags": []
   },
   "source": [
    "## GCP Provider\n",
    "### Define GCP Provider\n",
    "\n",
    "In this example, we will create a GCP provider. First, load in GCP service account credentials JSON file. Then, define a `Provider` object with the credentials and desired configuration."
   ]
  },
  {
   "cell_type": "code",
   "execution_count": null,
   "id": "dd6513ce",
   "metadata": {
    "tags": []
   },
   "outputs": [],
   "source": [
    "gcp_creds_filename = os.getenv('GCE_CREDENTIALS_FILE_PATH')\n",
    "gcp_creds_file = open(gcp_creds_filename, 'r')\n",
    "gcp_creds = json.loads(gcp_creds_file.read())\n",
    "\n",
    "new_provider = {\n",
    "    \"code\": \"gcp\",\n",
    "    \"config\": {\n",
    "        **gcp_creds,\n",
    "        \"YB_FIREWALL_TAGS\": \"cluster-server\",\n",
    "    },\n",
    "    \"destVpcId\": \"yugabyte-network\",\n",
    "    \"name\": \"my-gcp-provider\",\n",
    "    \"regions\": [\n",
    "        {\n",
    "            \"code\": \"us-central1\",\n",
    "            \"name\": \"us-central1\",\n",
    "            \"zones\": [],\n",
    "        },\n",
    "    ],\n",
    "    \"sshPort\": 54422,\n",
    "    \"airGapInstall\": False,\n",
    "}"
   ]
  },
  {
   "cell_type": "markdown",
   "id": "0a34e65e",
   "metadata": {},
   "source": [
    "### Create Provider\n",
    "\n",
    "Make API call to provider endpoint to create new provider."
   ]
  },
  {
   "cell_type": "code",
   "execution_count": null,
   "id": "eb6a229c",
   "metadata": {},
   "outputs": [],
   "source": [
    "url = f\"/api/v1/customers/{customer_uuid}/providers\"\n",
    "conn.request(\"POST\", url, json.dumps(new_provider), headers)\n",
    "res = conn.getresponse()\n",
    "print(json.dumps(json.load(res), indent=2))"
   ]
  },
  {
   "cell_type": "markdown",
   "id": "189fb85a-ae8a-4f4f-94e0-be0f88296154",
   "metadata": {
    "tags": []
   },
   "source": [
    "## AWS Provider\n",
    "### Define AWS Provider\n",
    "\n",
    "In this example, we will create an AWS provider. You need to have set `AWS_ACCESS_KEY_ID` and `AWS_SECRET_ACCESS_KEY` environment variables."
   ]
  },
  {
   "cell_type": "code",
   "execution_count": 29,
   "id": "3f302755-50ac-40c2-abb9-a5ca7dbc438c",
   "metadata": {
    "tags": []
   },
   "outputs": [],
   "source": [
    "config = configparser.RawConfigParser()\n",
    "config.read(os.path.expanduser('~/.aws/credentials'))\n",
    "# print (config.sections())\n",
    "new_provider = {\n",
    "  \"code\": \"aws\",\n",
    "  \"name\": \"my-aws-provider\",\n",
    "  \"config\": {\n",
    "    \"AWS_ACCESS_KEY_ID\": f\"{config.get('default', 'aws_access_key_id')}\",\n",
    "    \"AWS_SECRET_ACCESS_KEY\": f\"{config.get('default', 'aws_secret_access_key')}\"\n",
    "  },\n",
    "  \"regions\": [\n",
    "      {\n",
    "          \"code\": \"us-west-2\",\n",
    "          \"name\": \"us-west-2\",\n",
    "          \"zones\": [],\n",
    "      },\n",
    "  ]\n",
    "}\n",
    "#pprint(new_provider)"
   ]
  },
  {
   "cell_type": "markdown",
   "id": "1369c70b-bffc-4a78-8475-a49b20c421da",
   "metadata": {},
   "source": [
    "### Create Provider\n",
    "\n",
    "Make API call to provider endpoint to create new provider."
   ]
  },
  {
   "cell_type": "code",
   "execution_count": 24,
   "id": "1e3e3a6a-6461-4d2e-8506-7b96bc1754b8",
   "metadata": {},
   "outputs": [
    {
     "name": "stdout",
     "output_type": "stream",
     "text": [
      "{'resourceUUID': '3ef96e2b-4940-407a-ae55-e13971285791',\n",
      " 'taskUUID': '0fe7fed6-8b3b-4c60-8ad2-124b217ad83a'}\n"
     ]
    }
   ],
   "source": [
    "url = f\"/api/v1/customers/{customer_uuid}/providers\"\n",
    "conn.request(\"POST\", url, json.dumps(new_provider), headers)\n",
    "res = conn.getresponse()\n",
    "pprint(json.load(res))"
   ]
  },
  {
   "attachments": {},
   "cell_type": "markdown",
   "id": "a35b2474",
   "metadata": {},
   "source": [
    "## Azure Provider\n",
    "### Define Azure Provider\n",
    "\n",
    "In this example, we will create a GCP provider. You need to have set `AZURE_CLIENT_ID`, `AZURE_CLIENT_SECRET`, `AZURE_TENANT_ID`, `AZURE_SUBSCRIPTION_ID`, and `AZURE_RG` environment variables."
   ]
  },
  {
   "cell_type": "code",
   "execution_count": null,
   "id": "a13a4d8c",
   "metadata": {},
   "outputs": [],
   "source": [
    "\n",
    "new_provider = {\n",
    "  \"code\": \"azu\",\n",
    "  \"name\": \"my-azu-provider\",\n",
    "  \"config\": {\n",
    "    \"AZURE_CLIENT_ID\": f\"{os.getenv('AZURE_CLIENT_ID')}\",\n",
    "    \"AZURE_CLIENT_SECRET\": f\"{os.getenv('AZURE_CLIENT_SECRET')}\",\n",
    "    \"AZURE_TENANT_ID\": f\"{os.getenv('AZURE_TENANT_ID')}\",\n",
    "    \"AZURE_SUBSCRIPTION_ID\": f\"{os.getenv('AZURE_SUBSCRIPTION_ID')}\",\n",
    "    \"AZURE_RG\": f\"{os.getenv('AZURE_RG')}\"\n",
    "  },\n",
    "  \"regions\": [\n",
    "    {\n",
    "      \"code\": \"westus2\",\n",
    "      \"vNetName\": \"yugabyte-vnet-us-west2\",\n",
    "      \"zones\": [\n",
    "        {\n",
    "          \"name\": \"westus2-1\",\n",
    "          \"subnet\": \"yugabyte-subnet-westus2\"\n",
    "        },\n",
    "        {\n",
    "          \"name\": \"westus2-2\",\n",
    "          \"subnet\": \"yugabyte-subnet-westus2\"\n",
    "        },\n",
    "        {\n",
    "          \"name\": \"westus2-3\",\n",
    "          \"subnet\": \"yugabyte-subnet-westus2\"\n",
    "        }\n",
    "      ]\n",
    "    },\n",
    "  ]\n",
    "}\n",
    "#pprint(new_provider)"
   ]
  },
  {
   "attachments": {},
   "cell_type": "markdown",
   "id": "e6ac9fb3",
   "metadata": {},
   "source": [
    "### Create Provider\n",
    "\n",
    "Make API call to provider endpoint to create new provider."
   ]
  },
  {
   "cell_type": "code",
   "execution_count": null,
   "id": "9a33b370",
   "metadata": {},
   "outputs": [],
   "source": [
    "url = f\"/api/v1/customers/{customer_uuid}/providers\"\n",
    "conn.request(\"POST\", url, json.dumps(new_provider), headers)\n",
    "res = conn.getresponse()\n",
    "pprint(json.load(res))"
   ]
  }
 ],
 "metadata": {
  "interpreter": {
   "hash": "31f2aee4e71d21fbe5cf8b01ff0e069b9275f58929596ceb00d14d90e3e16cd6"
  },
  "kernelspec": {
   "display_name": "Python 3 (ipykernel)",
   "language": "python",
   "name": "python3"
  },
  "language_info": {
   "codemirror_mode": {
    "name": "ipython",
    "version": 3
   },
   "file_extension": ".py",
   "mimetype": "text/x-python",
   "name": "python",
   "nbconvert_exporter": "python",
   "pygments_lexer": "ipython3",
   "version": "3.8.5"
  }
 },
 "nbformat": 4,
 "nbformat_minor": 5
}
