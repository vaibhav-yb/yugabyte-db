{
 "cells": [
  {
   "cell_type": "markdown",
   "source": [
    "# Disaster Recovery APIs\n",
    "In this notebook, we will go over the disaster recovery APIs in YBA with examples and the steps required to make those API calls. We assume that you have already two universes deployed in your YBA and you know their universe uuids.\n",
    "## Get the API Token \n",
    "All disaster recovery YBA APIs are restricted to only authenticated users, so to use them through API, you first need to get the API token using the following code:"
   ],
   "metadata": {
    "collapsed": false
   },
   "id": "69fad1a0f5e69b91"
  },
  {
   "cell_type": "code",
   "execution_count": 55,
   "outputs": [
    {
     "name": "stdout",
     "output_type": "stream",
     "text": [
      "{'apiToken': '2894987a-4fdf-47cf-95a2-be3f2039cf79',\n",
      " 'apiTokenVersion': 0,\n",
      " 'customerUUID': 'f33e3c9b-75ab-4c30-80ad-cba85646ea39',\n",
      " 'userUUID': 'a9190fe6-1067-409f-95cf-dbd96893c9c9'}\n"
     ]
    }
   ],
   "source": [
    "import requests\n",
    "import os\n",
    "from pprint import pprint\n",
    "\n",
    "yba_url = os.getenv(\"YBA_URL\", \"http://192.168.56.102:9000\")\n",
    "yba_user = {\n",
    "    \"email\": os.getenv(\"YBA_USER_EMAIL\", \"admin\"),\n",
    "    \"password\": os.getenv(\"YBA_USER_PASSWORD\", \"admin\"),\n",
    "}\n",
    "\n",
    "route = f\"{yba_url}/api/v1/api_login\"\n",
    "payload = {\n",
    "    \"email\": yba_user[\"email\"],\n",
    "    \"password\": yba_user[\"password\"],\n",
    "}\n",
    "response = requests.post(url=route, json=payload).json()\n",
    "pprint(response)\n",
    "\n",
    "customer_uuid = response[\"customerUUID\"]\n",
    "yba_api_token = response[\"apiToken\"]\n",
    "headers = {\"X-AUTH-YW-API-TOKEN\": yba_api_token}"
   ],
   "metadata": {
    "collapsed": false,
    "ExecuteTime": {
     "end_time": "2023-12-04T17:39:27.224445593Z",
     "start_time": "2023-12-04T17:39:27.122605336Z"
    }
   },
   "id": "fa1d5dfbf5b0be4c"
  },
  {
   "cell_type": "markdown",
   "source": [
    "Then you can use `customer_uuid` as a url parameter and pass the `yba_api_token` in the request header with name `X-AUTH-YW-API-TOKEN` to show that the user is authenticated."
   ],
   "metadata": {
    "collapsed": false
   },
   "id": "b9aea6087ac4d139"
  },
  {
   "cell_type": "markdown",
   "source": [
    "## Get Storage Config UUID\n",
    "Disaster recovery uses backup/restore for replicating existing data on the source universe, and a storage config is required to store the backup and then restore from. To get the storage config uuid, use the following code:"
   ],
   "metadata": {
    "collapsed": false
   },
   "id": "6c646777c75500b9"
  },
  {
   "cell_type": "code",
   "execution_count": 56,
   "outputs": [
    {
     "name": "stdout",
     "output_type": "stream",
     "text": [
      "301029d7-ebcc-4cd9-9dbb-c87775340d09\n"
     ]
    }
   ],
   "source": [
    "route = f\"{yba_url}/api/v1/customers/{customer_uuid}/configs\"\n",
    "response = requests.get(url=route, headers=headers).json()\n",
    "storage_configs = list(filter(lambda config: config[\"type\"] == \"STORAGE\", response))\n",
    "if len(storage_configs) < 1:\n",
    "    print(\"No storage config found\")\n",
    "    exit(-1)\n",
    "\n",
    "storage_config_uuid = storage_configs[0][\"configUUID\"]\n",
    "print(storage_config_uuid)"
   ],
   "metadata": {
    "collapsed": false,
    "ExecuteTime": {
     "end_time": "2023-12-04T17:39:29.664970067Z",
     "start_time": "2023-12-04T17:39:29.617433837Z"
    }
   },
   "id": "d52d71a0bfd33a3f"
  },
  {
   "cell_type": "markdown",
   "source": [
    "## List YSQL DBs on Source Universe\n",
    "Disaster recovery is only available for YSQL tables and can be set up at the database granularity. You need to pass the list of databases you would like to replicate to the disaster recovery create API.\n",
    "The following is how you can get the list of the databases for a universe:"
   ],
   "metadata": {
    "collapsed": false
   },
   "id": "1357d2090d15e4cb"
  },
  {
   "cell_type": "code",
   "execution_count": 57,
   "outputs": [
    {
     "name": "stdout",
     "output_type": "stream",
     "text": [
      "['post', 'postgres']\n",
      "['0000406e-0000-3000-8000-000000000000', '000033f3-0000-3000-8000-000000000000']\n"
     ]
    }
   ],
   "source": [
    "source_universe_uuid = os.getenv(\n",
    "    \"YBA_SOURCE_UNIVERSE_UUID\", \"0194df05-362d-4b73-b9b9-e0e5b3ad02b5\"\n",
    ")\n",
    "route = f\"{yba_url}/api/v1/customers/{customer_uuid}/universes/{source_universe_uuid}/namespaces\"\n",
    "response = requests.get(url=route, headers=headers).json()\n",
    "ysql_database_list = [\n",
    "    db\n",
    "    for db in list(\n",
    "        filter(lambda db: db[\"tableType\"] == \"PGSQL_TABLE_TYPE\" and db[\"name\"] != \"yugabyte\", response)\n",
    "    )\n",
    "]\n",
    "\n",
    "ysql_database_name_list = [db[\"name\"] for db in ysql_database_list]\n",
    "pprint(ysql_database_name_list)\n",
    "\n",
    "ysql_database_uuid_list = [db[\"namespaceUUID\"] for db in ysql_database_list]\n",
    "pprint(ysql_database_uuid_list)"
   ],
   "metadata": {
    "collapsed": false,
    "ExecuteTime": {
     "end_time": "2023-12-04T17:39:31.373672646Z",
     "start_time": "2023-12-04T17:39:30.608662372Z"
    }
   },
   "id": "e50340274b0d39c2"
  },
  {
   "cell_type": "markdown",
   "source": [
    "## List Tables on Source Universe\n",
    "To change the list of tables in replication as part of the disaster recovery config, you the list of the tables UUIDs in the source universe.\n",
    "Please note that although the API to change the tables list in a disaster recovery is at table granularity, but YBA only supports bootstrapping of YSQL tables with DB granularity, so if you would like to add tables to the disaster recovery config that require bootstrapping, you need to pass all the table UUIDs in a database.\n",
    "The following is how you can get the list of the tables for a universe:"
   ],
   "metadata": {
    "collapsed": false
   },
   "id": "9fbf6b987fb8c7e2"
  },
  {
   "cell_type": "code",
   "execution_count": 58,
   "outputs": [
    {
     "name": "stdout",
     "output_type": "stream",
     "text": [
      "[{'colocated': False,\n",
      "  'isIndexTable': True,\n",
      "  'keySpace': 'post',\n",
      "  'pgSchemaName': 'public',\n",
      "  'relationType': 'INDEX_TABLE_RELATION',\n",
      "  'sizeBytes': 0.0,\n",
      "  'tableID': '0000406e000030008000000000004079',\n",
      "  'tableName': 'postgresqlkeyvalue_v_idx',\n",
      "  'tableType': 'PGSQL_TABLE_TYPE',\n",
      "  'tableUUID': '0000406e-0000-3000-8000-000000004079',\n",
      "  'walSizeBytes': 0.0},\n",
      " {'colocated': False,\n",
      "  'isIndexTable': False,\n",
      "  'keySpace': 'post',\n",
      "  'pgSchemaName': 'public',\n",
      "  'relationType': 'USER_TABLE_RELATION',\n",
      "  'sizeBytes': 0.0,\n",
      "  'tableID': '0000406e000030008000000000004074',\n",
      "  'tableName': 'postgresqlkeyvalue1',\n",
      "  'tableType': 'PGSQL_TABLE_TYPE',\n",
      "  'tableUUID': '0000406e-0000-3000-8000-000000004074',\n",
      "  'walSizeBytes': 0.0},\n",
      " {'colocated': False,\n",
      "  'isIndexTable': False,\n",
      "  'keySpace': 'post',\n",
      "  'pgSchemaName': 'public',\n",
      "  'relationType': 'USER_TABLE_RELATION',\n",
      "  'sizeBytes': 0.0,\n",
      "  'tableID': '0000406e00003000800000000000406f',\n",
      "  'tableName': 'postgresqlkeyvalue',\n",
      "  'tableType': 'PGSQL_TABLE_TYPE',\n",
      "  'tableUUID': '0000406e-0000-3000-8000-00000000406f',\n",
      "  'walSizeBytes': 0.0},\n",
      " {'colocated': False,\n",
      "  'isIndexTable': True,\n",
      "  'keySpace': 'postgres',\n",
      "  'pgSchemaName': 'public',\n",
      "  'relationType': 'INDEX_TABLE_RELATION',\n",
      "  'sizeBytes': 0.0,\n",
      "  'tableID': '000033f300003000800000000000406d',\n",
      "  'tableName': 'postgresqlkeyvalue_v_idx',\n",
      "  'tableType': 'PGSQL_TABLE_TYPE',\n",
      "  'tableUUID': '000033f3-0000-3000-8000-00000000406d',\n",
      "  'walSizeBytes': 0.0},\n",
      " {'colocated': False,\n",
      "  'isIndexTable': False,\n",
      "  'keySpace': 'postgres',\n",
      "  'pgSchemaName': 'public',\n",
      "  'relationType': 'USER_TABLE_RELATION',\n",
      "  'sizeBytes': 0.0,\n",
      "  'tableID': '000033f3000030008000000000004068',\n",
      "  'tableName': 'postgresqlkeyvalue1',\n",
      "  'tableType': 'PGSQL_TABLE_TYPE',\n",
      "  'tableUUID': '000033f3-0000-3000-8000-000000004068',\n",
      "  'walSizeBytes': 0.0},\n",
      " {'colocated': False,\n",
      "  'isIndexTable': False,\n",
      "  'keySpace': 'postgres',\n",
      "  'pgSchemaName': 'public',\n",
      "  'relationType': 'USER_TABLE_RELATION',\n",
      "  'sizeBytes': 0.0,\n",
      "  'tableID': '000033f3000030008000000000004063',\n",
      "  'tableName': 'postgresqlkeyvalue',\n",
      "  'tableType': 'PGSQL_TABLE_TYPE',\n",
      "  'tableUUID': '000033f3-0000-3000-8000-000000004063',\n",
      "  'walSizeBytes': 0.0}]\n"
     ]
    }
   ],
   "source": [
    "route = (f\"{yba_url}/api/v1/customers/{customer_uuid}/universes/{source_universe_uuid}/tables\"\n",
    "         f\"?includeParentTableInfo={str(False).lower()}&onlySupportedForXCluster={str(True).lower()}\")\n",
    "response = requests.get(url=route, headers=headers).json()\n",
    "ysql_tables = [\n",
    "    table\n",
    "    for table in list(\n",
    "        filter(lambda table: table[\"tableType\"] == \"PGSQL_TABLE_TYPE\" and table[\"keySpace\"] in ysql_database_name_list, response)\n",
    "    )\n",
    "]\n",
    "pprint(ysql_tables)\n",
    "\n",
    "ysql_table_uuid_list = [table[\"tableUUID\"] for table in ysql_tables]"
   ],
   "metadata": {
    "collapsed": false,
    "ExecuteTime": {
     "end_time": "2023-12-04T17:39:33.046589266Z",
     "start_time": "2023-12-04T17:39:32.135307159Z"
    }
   },
   "id": "cb282963b1005eef"
  },
  {
   "cell_type": "markdown",
   "source": [
    "## Waiting For Tasks\n",
    "The disaster recovery APIs will create a task in the backend and returns a task uuid which you can follow to see the progress and the status of the task. You can use the following function to wait for a task:"
   ],
   "metadata": {
    "collapsed": false
   },
   "id": "a87c1cb6ec63aae7"
  },
  {
   "cell_type": "code",
   "execution_count": 59,
   "outputs": [],
   "source": [
    "import time\n",
    "\n",
    "def waitForTask(task_uuid):\n",
    "    route = f\"{yba_url}/api/v1/customers/{customer_uuid}/tasks/{task_uuid}\"\n",
    "    while True:\n",
    "        response = requests.get(url=route, headers=headers).json()\n",
    "        status = response[\"status\"]\n",
    "        if status == \"Failure\":\n",
    "            route = f\"{yba_url}/api/customers/{customer_uuid}/tasks/{task_uuid}/failed\"\n",
    "            response = requests.get(url=route, headers=headers)\n",
    "            if response is not None:\n",
    "                response = response.json()\n",
    "                if \"failedSubTasks\" in response:\n",
    "                    errors = [\n",
    "                        subtask[\"errorString\"] for subtask in response[\"failedSubTasks\"]\n",
    "                    ]\n",
    "                    print(f\"Task {task_uuid} failed with the following errors:\")\n",
    "                    print(\"\\n\".join(errors))\n",
    "                else:\n",
    "                    pprint(response)\n",
    "            else:\n",
    "                print(\n",
    "                    f\"Task {task_uuid} failed, but could not get the failure messages\"\n",
    "                )\n",
    "            exit(-1)\n",
    "        elif status == \"Success\":\n",
    "            print(f\"Task {task_uuid} finished successfully\")\n",
    "            break\n",
    "        print(f\"Waiting for task {task_uuid}...\")\n",
    "        time.sleep(20)"
   ],
   "metadata": {
    "collapsed": false,
    "ExecuteTime": {
     "end_time": "2023-12-04T17:39:34.159795608Z",
     "start_time": "2023-12-04T17:39:34.151645604Z"
    }
   },
   "id": "bac17f7ed7bd129"
  },
  {
   "cell_type": "markdown",
   "source": [
    "## Creating Disaster Recovery Configs\n",
    "Now we have all the required information to successfully create a disaster recovery config from universe `source_universe_uuid` to `target_universe_uuid`."
   ],
   "metadata": {
    "collapsed": false
   },
   "id": "f1472d3eecf93e15"
  },
  {
   "cell_type": "code",
   "execution_count": 60,
   "outputs": [
    {
     "name": "stdout",
     "output_type": "stream",
     "text": [
      "{'resourceUUID': '98d823ab-d035-475f-868d-e19db1343754',\n",
      " 'taskUUID': 'ef1f52fd-a0aa-4684-a35b-0f61f0d97d45'}\n",
      "Waiting for task ef1f52fd-a0aa-4684-a35b-0f61f0d97d45...\n",
      "Task ef1f52fd-a0aa-4684-a35b-0f61f0d97d45 finished successfully\n"
     ]
    }
   ],
   "source": [
    "target_universe_uuid = os.getenv(\n",
    "    \"YBA_TARGET_UNIVERSE_UUID\", \"dc7940d0-8130-4f04-a004-918dd4f4ff95\"\n",
    ")\n",
    "route = f\"{yba_url}/api/v1/customers/{customer_uuid}/dr_configs\"\n",
    "payload = {\n",
    "    \"sourceUniverseUUID\": source_universe_uuid,\n",
    "    \"targetUniverseUUID\": target_universe_uuid,\n",
    "    \"name\": \"my-dr\",\n",
    "    \"dbs\": ysql_database_uuid_list,\n",
    "    \"bootstrapParams\": {\n",
    "        \"backupRequestParams\": {\"storageConfigUUID\": storage_config_uuid},\n",
    "    }\n",
    "}\n",
    "response = requests.post(url=route, json=payload, headers=headers).json()\n",
    "pprint(response)\n",
    "if \"taskUUID\" not in response:\n",
    "    print(f\"Failed to create the task: {response}\")\n",
    "    exit(-1)\n",
    "\n",
    "waitForTask(response[\"taskUUID\"])\n",
    "\n",
    "dr_config_uuid = response[\"resourceUUID\"]"
   ],
   "metadata": {
    "collapsed": false,
    "ExecuteTime": {
     "end_time": "2023-12-04T17:39:58.565680269Z",
     "start_time": "2023-12-04T17:39:35.872498080Z"
    }
   },
   "id": "662776b0e2ba61a5"
  },
  {
   "cell_type": "markdown",
   "source": [
    "## Getting Disaster Recovery Configs\n",
    "You can get the disaster recovery config using its uuid. See the following example."
   ],
   "metadata": {
    "collapsed": false
   },
   "id": "4e53f61b7e55bc93"
  },
  {
   "cell_type": "code",
   "execution_count": 61,
   "outputs": [
    {
     "name": "stdout",
     "output_type": "stream",
     "text": [
      "{'createTime': '2023-12-04T17:39:38Z',\n",
      " 'drReplicaUniverseActive': False,\n",
      " 'drReplicaUniverseState': 'Receiving data, Ready for reads',\n",
      " 'drReplicaUniverseUuid': 'dc7940d0-8130-4f04-a004-918dd4f4ff95',\n",
      " 'modifyTime': '2023-12-04T17:39:38Z',\n",
      " 'name': 'my-dr',\n",
      " 'paused': False,\n",
      " 'pitrConfigs': [{'createTime': '2023-12-04T17:37:31Z',\n",
      "                  'customerUUID': 'f33e3c9b-75ab-4c30-80ad-cba85646ea39',\n",
      "                  'dbName': 'post',\n",
      "                  'maxRecoverTimeInMillis': 0,\n",
      "                  'minRecoverTimeInMillis': 0,\n",
      "                  'retentionPeriod': 259200,\n",
      "                  'scheduleInterval': 3600,\n",
      "                  'tableType': 'PGSQL_TABLE_TYPE',\n",
      "                  'updateTime': '2023-12-04T17:37:31Z',\n",
      "                  'usedForXCluster': True,\n",
      "                  'uuid': '10faf9a9-8e67-484c-b692-d65b1956a6ae'},\n",
      "                 {'createTime': '2023-12-04T17:37:47Z',\n",
      "                  'customerUUID': 'f33e3c9b-75ab-4c30-80ad-cba85646ea39',\n",
      "                  'dbName': 'postgres',\n",
      "                  'maxRecoverTimeInMillis': 0,\n",
      "                  'minRecoverTimeInMillis': 0,\n",
      "                  'retentionPeriod': 259200,\n",
      "                  'scheduleInterval': 3600,\n",
      "                  'tableType': 'PGSQL_TABLE_TYPE',\n",
      "                  'updateTime': '2023-12-04T17:37:47Z',\n",
      "                  'usedForXCluster': True,\n",
      "                  'uuid': '0e865403-372c-4f65-987d-76254864f04d'}],\n",
      " 'primaryUniverseActive': True,\n",
      " 'primaryUniverseState': 'Replicating data',\n",
      " 'primaryUniverseUuid': '0194df05-362d-4b73-b9b9-e0e5b3ad02b5',\n",
      " 'replicationGroupName': '0194df05-362d-4b73-b9b9-e0e5b3ad02b5_--DR-CONFIG-my-dr-0',\n",
      " 'state': 'Replicating',\n",
      " 'status': 'Running',\n",
      " 'tableDetails': [{'bootstrapCreateTime': '2023-12-04T17:39:44Z',\n",
      "                   'indexTable': True,\n",
      "                   'needBootstrap': False,\n",
      "                   'replicationSetupDone': True,\n",
      "                   'status': 'Running',\n",
      "                   'streamId': '2ad057961a82470f9be082ae8c2535f1',\n",
      "                   'tableId': '0000406e000030008000000000004079'},\n",
      "                  {'bootstrapCreateTime': '2023-12-04T17:39:44Z',\n",
      "                   'indexTable': False,\n",
      "                   'needBootstrap': False,\n",
      "                   'replicationSetupDone': True,\n",
      "                   'status': 'Running',\n",
      "                   'streamId': '07292c18c12c415c82633ae13945cbff',\n",
      "                   'tableId': '000033f3000030008000000000004068'},\n",
      "                  {'bootstrapCreateTime': '2023-12-04T17:39:44Z',\n",
      "                   'indexTable': False,\n",
      "                   'needBootstrap': False,\n",
      "                   'replicationSetupDone': True,\n",
      "                   'status': 'Running',\n",
      "                   'streamId': 'b918fa1e89084f6bb81e229ac3786bca',\n",
      "                   'tableId': '0000406e00003000800000000000406f'},\n",
      "                  {'bootstrapCreateTime': '2023-12-04T17:39:44Z',\n",
      "                   'indexTable': False,\n",
      "                   'needBootstrap': False,\n",
      "                   'replicationSetupDone': True,\n",
      "                   'status': 'Running',\n",
      "                   'streamId': '30a053577efa437ebbf30ecd7a0eb7db',\n",
      "                   'tableId': '0000406e000030008000000000004074'},\n",
      "                  {'bootstrapCreateTime': '2023-12-04T17:39:44Z',\n",
      "                   'indexTable': False,\n",
      "                   'needBootstrap': False,\n",
      "                   'replicationSetupDone': True,\n",
      "                   'status': 'Running',\n",
      "                   'streamId': 'b60baeaa321e4010b19f91f78c90b281',\n",
      "                   'tableId': '000033f3000030008000000000004063'},\n",
      "                  {'bootstrapCreateTime': '2023-12-04T17:39:44Z',\n",
      "                   'indexTable': True,\n",
      "                   'needBootstrap': False,\n",
      "                   'replicationSetupDone': True,\n",
      "                   'status': 'Running',\n",
      "                   'streamId': 'ecf9029262db4756989715098fee821a',\n",
      "                   'tableId': '000033f300003000800000000000406d'}],\n",
      " 'tableType': 'YSQL',\n",
      " 'tables': ['0000406e000030008000000000004079',\n",
      "            '000033f3000030008000000000004068',\n",
      "            '0000406e00003000800000000000406f',\n",
      "            '0000406e000030008000000000004074',\n",
      "            '000033f3000030008000000000004063',\n",
      "            '000033f300003000800000000000406d'],\n",
      " 'uuid': '98d823ab-d035-475f-868d-e19db1343754',\n",
      " 'xclusterConfigUuid': 'dd23bc3b-4845-4c8d-bb3c-27cb24ab4d33',\n",
      " 'xclusterConfigsUuid': ['dd23bc3b-4845-4c8d-bb3c-27cb24ab4d33']}\n"
     ]
    }
   ],
   "source": [
    "route = f\"{yba_url}/api/v1/customers/{customer_uuid}/dr_configs/{dr_config_uuid}\"\n",
    "response = requests.get(url=route, headers=headers).json()\n",
    "pprint(response)"
   ],
   "metadata": {
    "collapsed": false,
    "ExecuteTime": {
     "end_time": "2023-12-04T17:41:36.790632240Z",
     "start_time": "2023-12-04T17:41:36.258600758Z"
    }
   },
   "id": "1490b024bb1272e3"
  },
  {
   "cell_type": "markdown",
   "source": [
    "## Modifying Tables in Disaster Recovery Configs\n",
    "You can add/remove tables to/from an existing disaster recovery config. This is useful when you would like to add new tables to your database after the disaster recovery config is set up, or you would like to drop a table from your database.\n",
    "Please note that to drop a table from your database, *first you need to remove that table from the disaster recovery config.*\n",
    "To modify the tables in replication in a disaster recovery config, you need to pass the list of the tables that you would like to be in replication. In other words, you remove the table UUIDs that you do not want to be replicated, and add the new table uuids you want to replication. See the following example. "
   ],
   "metadata": {
    "collapsed": false
   },
   "id": "bcd301d7ae19175d"
  },
  {
   "cell_type": "code",
   "execution_count": 62,
   "outputs": [
    {
     "name": "stdout",
     "output_type": "stream",
     "text": [
      "{'resourceUUID': '98d823ab-d035-475f-868d-e19db1343754',\n",
      " 'taskUUID': '3805cff8-5699-4795-80a0-4958dd1d22b6'}\n",
      "Waiting for task 3805cff8-5699-4795-80a0-4958dd1d22b6...\n",
      "Task 3805cff8-5699-4795-80a0-4958dd1d22b6 finished successfully\n",
      "{'resourceUUID': '98d823ab-d035-475f-868d-e19db1343754',\n",
      " 'taskUUID': 'dc14ca23-b800-4a11-8a8a-5e4343c707f6'}\n",
      "Waiting for task dc14ca23-b800-4a11-8a8a-5e4343c707f6...\n",
      "Task dc14ca23-b800-4a11-8a8a-5e4343c707f6 finished successfully\n"
     ]
    }
   ],
   "source": [
    "# Remove tables.\n",
    "route = f\"{yba_url}/api/v1/customers/{customer_uuid}/dr_configs/{dr_config_uuid}/set_tables\"\n",
    "payload = {\n",
    "    \"tables\": ysql_table_uuid_list[:-1]\n",
    "}\n",
    "response = requests.post(url=route, json=payload, headers=headers).json()\n",
    "pprint(response)\n",
    "if \"taskUUID\" not in response:\n",
    "    print(f\"Failed to create the task: {response}\")\n",
    "    exit(-1)\n",
    "\n",
    "waitForTask(response[\"taskUUID\"])\n",
    "\n",
    "# Add tables.\n",
    "route = f\"{yba_url}/api/v1/customers/{customer_uuid}/dr_configs/{dr_config_uuid}/set_tables\"\n",
    "payload = {\n",
    "    \"tables\": ysql_table_uuid_list,\n",
    "    \"bootstrapParams\": {\n",
    "        \"backupRequestParams\": {\"storageConfigUUID\": storage_config_uuid},\n",
    "    },\n",
    "}\n",
    "response = requests.post(url=route, json=payload, headers=headers).json()\n",
    "pprint(response)\n",
    "if \"taskUUID\" not in response:\n",
    "    print(f\"Failed to create the task: {response}\")\n",
    "    exit(-1)\n",
    "\n",
    "waitForTask(response[\"taskUUID\"])"
   ],
   "metadata": {
    "collapsed": false,
    "ExecuteTime": {
     "end_time": "2023-12-04T17:42:27.901107859Z",
     "start_time": "2023-12-04T17:41:44.366634834Z"
    }
   },
   "id": "40a4660edd44ff9a"
  },
  {
   "cell_type": "markdown",
   "source": [
    "## Reconciling Disaster Recovery Configs with YBDB State\n",
    "Sometimes, it is required to make changes to the replication group using yb-admin. In these cases, the corresponding disaster recovery config in YBA will not be automatically updated to learn about the yb-admin changes, and a manual synchronization call is required as follows.\n",
    "Please note that a disaster recovery config named `<dr-name>`, the corresponding replication group name will be `<source-universe-uuid>_--DR-CONFIG-<dr-name>-0`."
   ],
   "metadata": {
    "collapsed": false
   },
   "id": "251a35f0396f90a8"
  },
  {
   "cell_type": "code",
   "execution_count": 63,
   "outputs": [
    {
     "name": "stdout",
     "output_type": "stream",
     "text": [
      "Waiting for task 0f1f0171-4a88-4c73-8c47-698164c09bdd...\n",
      "Task 0f1f0171-4a88-4c73-8c47-698164c09bdd finished successfully\n"
     ]
    }
   ],
   "source": [
    "route = f\"{yba_url}/api/v1/customers/{customer_uuid}/dr_configs/{dr_config_uuid}/sync\"\n",
    "response = requests.post(url=route, headers=headers).json()\n",
    "if \"taskUUID\" not in response:\n",
    "    print(f\"Failed to create the task: {response}\")\n",
    "    exit(-1)\n",
    "\n",
    "waitForTask(response[\"taskUUID\"])"
   ],
   "metadata": {
    "collapsed": false,
    "ExecuteTime": {
     "end_time": "2023-12-04T17:42:50.380502085Z",
     "start_time": "2023-12-04T17:42:30.129427011Z"
    }
   },
   "id": "7c08650aa05415b"
  },
  {
   "cell_type": "markdown",
   "source": [
    "## Restarting Disaster Recovery Configs\n",
    "The replication between two universes can break for various reasons including temporary network partitions. In these cases, after the issue is resolved, you can restart replication. You may also include index tables to the replication by restarting the replication for their main tables."
   ],
   "metadata": {
    "collapsed": false
   },
   "id": "9f72bc2ff3e70869"
  },
  {
   "cell_type": "code",
   "execution_count": 64,
   "outputs": [
    {
     "name": "stdout",
     "output_type": "stream",
     "text": [
      "{'resourceUUID': '98d823ab-d035-475f-868d-e19db1343754',\n",
      " 'taskUUID': 'eff97317-ef8b-485d-8d1c-3c9ca59f30bb'}\n",
      "Waiting for task eff97317-ef8b-485d-8d1c-3c9ca59f30bb...\n",
      "Task eff97317-ef8b-485d-8d1c-3c9ca59f30bb finished successfully\n"
     ]
    }
   ],
   "source": [
    "route = f\"{yba_url}/api/v1/customers/{customer_uuid}/dr_configs/{dr_config_uuid}/restart\"\n",
    "payload = {\n",
    "    \"dbs\": ysql_database_uuid_list,\n",
    "    \"bootstrapParams\": {\n",
    "        \"backupRequestParams\": {\"storageConfigUUID\": storage_config_uuid},\n",
    "    },\n",
    "}\n",
    "response = requests.post(url=route, json=payload, headers=headers).json()\n",
    "pprint(response)\n",
    "if \"taskUUID\" not in response:\n",
    "    print(f\"Failed to create the task: {response}\")\n",
    "    exit(-1)\n",
    "\n",
    "waitForTask(response[\"taskUUID\"])"
   ],
   "metadata": {
    "collapsed": false,
    "ExecuteTime": {
     "end_time": "2023-12-04T17:43:15.966633611Z",
     "start_time": "2023-12-04T17:42:52.951418628Z"
    }
   },
   "id": "7271fc6aaf86cca4"
  },
  {
   "cell_type": "markdown",
   "source": [
    "## Doing Switchover on Disaster Recovery Configs\n",
    "You may switch over the primary and dr replica universes and then route your application writes to the old dr replica with zero RPO to drill a failover operation. The `primaryUniverseUuid` field in the payload will be the new primary universe UUID and the `drReplicaUniverseUuid` field will be the new dr replication universe UUID."
   ],
   "metadata": {
    "collapsed": false
   },
   "id": "7a87161a36b20b9b"
  },
  {
   "cell_type": "code",
   "execution_count": 65,
   "outputs": [
    {
     "name": "stdout",
     "output_type": "stream",
     "text": [
      "{'resourceUUID': '98d823ab-d035-475f-868d-e19db1343754',\n",
      " 'taskUUID': '1d9da05f-7a0b-46b8-a6f3-0852ac0ebd5c'}\n",
      "Waiting for task 1d9da05f-7a0b-46b8-a6f3-0852ac0ebd5c...\n",
      "Waiting for task 1d9da05f-7a0b-46b8-a6f3-0852ac0ebd5c...\n",
      "Task 1d9da05f-7a0b-46b8-a6f3-0852ac0ebd5c finished successfully\n"
     ]
    }
   ],
   "source": [
    "route = f\"{yba_url}/api/v1/customers/{customer_uuid}/dr_configs/{dr_config_uuid}/switchover\"\n",
    "payload = {\n",
    "    \"primaryUniverseUuid\": target_universe_uuid,\n",
    "    \"drReplicaUniverseUuid\": source_universe_uuid,\n",
    "}\n",
    "response = requests.post(url=route, json=payload, headers=headers).json()\n",
    "pprint(response)\n",
    "if \"taskUUID\" not in response:\n",
    "    print(f\"Failed to create the task: {response}\")\n",
    "    exit(-1)\n",
    "\n",
    "waitForTask(response[\"taskUUID\"])"
   ],
   "metadata": {
    "collapsed": false,
    "ExecuteTime": {
     "end_time": "2023-12-04T17:44:08.913407946Z",
     "start_time": "2023-12-04T17:43:26.817113700Z"
    }
   },
   "id": "7dd081b700e0dbe0"
  },
  {
   "cell_type": "markdown",
   "source": [
    "## Doing Failover on Disaster Recovery Configs\n",
    "In case the current primary universe becomes unavailable, you do a failover operations in order to promote the current dr replica as primary and then route your application traffic to the new primary universe. In a failover operation, some data can be lost. To get an estimate of the amount of data that could be lost, you need to get the current safetime using the following api call."
   ],
   "metadata": {
    "collapsed": false
   },
   "id": "15c3ddff0b37804f"
  },
  {
   "cell_type": "code",
   "execution_count": 66,
   "outputs": [
    {
     "name": "stdout",
     "output_type": "stream",
     "text": [
      "{'safetimes': [{'estimatedDataLossMs': 321,\n",
      "                'namespaceId': '0000406e000030008000000000000000',\n",
      "                'namespaceName': 'post',\n",
      "                'safetimeEpochUs': 1701711850090902,\n",
      "                'safetimeLagUs': 883087,\n",
      "                'safetimeSkewUs': 41},\n",
      "               {'estimatedDataLossMs': 321,\n",
      "                'namespaceId': '000033f3000030008000000000000000',\n",
      "                'namespaceName': 'postgres',\n",
      "                'safetimeEpochUs': 1701711850090821,\n",
      "                'safetimeLagUs': 883168,\n",
      "                'safetimeSkewUs': 142}]}\n"
     ]
    }
   ],
   "source": [
    "route = f\"{yba_url}/api/v1/customers/{customer_uuid}/dr_configs/{dr_config_uuid}/safetime\"\n",
    "response = requests.get(url=route, headers=headers).json()\n",
    "pprint(response)\n",
    "\n",
    "namespace_id_to_safetime_epoch_micros_dict = {safetime[\"namespaceId\"]: safetime[\"safetimeEpochUs\"] for safetime in response[\"safetimes\"]}"
   ],
   "metadata": {
    "collapsed": false,
    "ExecuteTime": {
     "end_time": "2023-12-04T17:44:11.823110144Z",
     "start_time": "2023-12-04T17:44:10.559379846Z"
    }
   },
   "id": "5e63df819ea4b75c"
  },
  {
   "cell_type": "markdown",
   "source": [
    "If the estimatedDataLossMs and current safetime on the current dr replica sounds good, you may call the following api do a failover operation (please note that in previous section we switched the source and target universes)."
   ],
   "metadata": {
    "collapsed": false
   },
   "id": "b4b8d6af92aa8680"
  },
  {
   "cell_type": "code",
   "execution_count": 67,
   "outputs": [
    {
     "name": "stdout",
     "output_type": "stream",
     "text": [
      "{'resourceUUID': '98d823ab-d035-475f-868d-e19db1343754',\n",
      " 'taskUUID': 'a5f769b5-c1a1-4794-8d7a-5b12225980c6'}\n",
      "Waiting for task a5f769b5-c1a1-4794-8d7a-5b12225980c6...\n",
      "Waiting for task a5f769b5-c1a1-4794-8d7a-5b12225980c6...\n",
      "Task a5f769b5-c1a1-4794-8d7a-5b12225980c6 finished successfully\n"
     ]
    }
   ],
   "source": [
    "route = f\"{yba_url}/api/v1/customers/{customer_uuid}/dr_configs/{dr_config_uuid}/failover\"\n",
    "payload = {\n",
    "    \"primaryUniverseUuid\": source_universe_uuid,\n",
    "    \"drReplicaUniverseUuid\": target_universe_uuid,\n",
    "    \"namespaceIdSafetimeEpochUsMap\": namespace_id_to_safetime_epoch_micros_dict\n",
    "}\n",
    "response = requests.post(url=route, json=payload, headers=headers).json()\n",
    "pprint(response)\n",
    "if \"taskUUID\" not in response:\n",
    "    print(f\"Failed to create the task: {response}\")\n",
    "    exit(-1)\n",
    "\n",
    "waitForTask(response[\"taskUUID\"])"
   ],
   "metadata": {
    "collapsed": false,
    "ExecuteTime": {
     "end_time": "2023-12-04T17:44:56.667270895Z",
     "start_time": "2023-12-04T17:44:14.519330041Z"
    }
   },
   "id": "24fbade624b4d31d"
  },
  {
   "cell_type": "markdown",
   "source": [
    "## Replacing dr replica on Disaster Recovery Configs\n",
    "After a failover operation, you could either restart the disaster recovery config to use the old primary universe as the dr replica, or you could use the following API to use a new universe as the dr replica."
   ],
   "metadata": {
    "collapsed": false
   },
   "id": "34f1a413b0e1c00f"
  },
  {
   "cell_type": "code",
   "execution_count": 68,
   "outputs": [
    {
     "name": "stdout",
     "output_type": "stream",
     "text": [
      "{'resourceUUID': '98d823ab-d035-475f-868d-e19db1343754',\n",
      " 'taskUUID': 'da3c30e4-e734-4d4f-a0c3-6d5943dc07eb'}\n",
      "Waiting for task da3c30e4-e734-4d4f-a0c3-6d5943dc07eb...\n",
      "Task da3c30e4-e734-4d4f-a0c3-6d5943dc07eb finished successfully\n"
     ]
    }
   ],
   "source": [
    "new_target_universe_uuid = os.getenv(\n",
    "    \"YBA_NEW_TARGET_UNIVERSE_UUID\", \"fcd8ad18-9130-45d7-b504-fa28d187df05\"\n",
    ")\n",
    "\n",
    "route = f\"{yba_url}/api/v1/customers/{customer_uuid}/dr_configs/{dr_config_uuid}/replace_replica\"\n",
    "payload = {\n",
    "    \"primaryUniverseUuid\": source_universe_uuid,\n",
    "    \"drReplicaUniverseUuid\": new_target_universe_uuid,\n",
    "    \"bootstrapParams\": {\n",
    "        \"backupRequestParams\": {\"storageConfigUUID\": storage_config_uuid},\n",
    "    },\n",
    "}\n",
    "response = requests.post(url=route, json=payload, headers=headers).json()\n",
    "pprint(response)\n",
    "if \"taskUUID\" not in response:\n",
    "    print(f\"Failed to create the task: {response}\")\n",
    "    exit(-1)\n",
    "\n",
    "waitForTask(response[\"taskUUID\"])"
   ],
   "metadata": {
    "collapsed": false,
    "ExecuteTime": {
     "end_time": "2023-12-04T17:45:22.255541527Z",
     "start_time": "2023-12-04T17:44:59.616364894Z"
    }
   },
   "id": "a0799a4c11c48654"
  },
  {
   "cell_type": "markdown",
   "source": [
    "## Deleting Disaster Recovery Configs\n",
    "You can delete the disaster recovery config so there is no replication relation between the two universes and the dr replica will be in active state. Please note that `isForceDelete` is useful when one of the universes is not available or there is an issue with the config. In those cases, you pass `True` and it will ignore errors and delete the config."
   ],
   "metadata": {
    "collapsed": false
   },
   "id": "d10a9e3b9cd61f75"
  },
  {
   "cell_type": "code",
   "execution_count": 69,
   "outputs": [
    {
     "name": "stdout",
     "output_type": "stream",
     "text": [
      "{'resourceUUID': '98d823ab-d035-475f-868d-e19db1343754',\n",
      " 'taskUUID': 'dc0f6aa2-ceba-47df-a931-0fca8418848b'}\n",
      "Waiting for task dc0f6aa2-ceba-47df-a931-0fca8418848b...\n",
      "Task dc0f6aa2-ceba-47df-a931-0fca8418848b finished successfully\n"
     ]
    }
   ],
   "source": [
    "route = (f\"{yba_url}/api/v1/customers/{customer_uuid}/dr_configs/{dr_config_uuid}\"\n",
    "         f\"?isForceDelete={str(False).lower()}\")\n",
    "response = requests.delete(url=route, headers=headers).json()\n",
    "pprint(response)\n",
    "if \"taskUUID\" not in response:\n",
    "    print(f\"Failed to create the task: {response}\")\n",
    "    exit(-1)\n",
    "\n",
    "waitForTask(response[\"taskUUID\"])"
   ],
   "metadata": {
    "collapsed": false,
    "ExecuteTime": {
     "end_time": "2023-12-04T17:46:41.712642963Z",
     "start_time": "2023-12-04T17:46:21.502265168Z"
    }
   },
   "id": "8a731fca0e0df322"
  },
  {
   "cell_type": "code",
   "execution_count": null,
   "outputs": [],
   "source": [],
   "metadata": {
    "collapsed": false,
    "ExecuteTime": {
     "end_time": "2023-12-04T17:37:36.328533843Z",
     "start_time": "2023-12-04T17:37:36.328146117Z"
    }
   },
   "id": "2468e02b7684603a"
  }
 ],
 "metadata": {
  "kernelspec": {
   "display_name": "Python 3",
   "language": "python",
   "name": "python3"
  },
  "language_info": {
   "codemirror_mode": {
    "name": "ipython",
    "version": 2
   },
   "file_extension": ".py",
   "mimetype": "text/x-python",
   "name": "python",
   "nbconvert_exporter": "python",
   "pygments_lexer": "ipython2",
   "version": "2.7.6"
  }
 },
 "nbformat": 4,
 "nbformat_minor": 5
}
