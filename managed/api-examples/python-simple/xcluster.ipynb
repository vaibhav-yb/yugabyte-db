{
 "cells": [
  {
   "cell_type": "markdown",
   "source": [
    "# Cross Cluster Replication APIs\n",
    "In this notebook, we will go over the xCluster APIs in YBA with examples and the steps required to make those API calls. We assume that you have already two universes deployed in your YBA and their universe uuids are known.\n",
    "## Get the API Token \n",
    "All xCluster replication YBA APIs are restricted to only authenticated users, so to use them through API, you first need to get the API token using the following code:"
   ],
   "metadata": {
    "collapsed": false
   },
   "id": "69fad1a0f5e69b91"
  },
  {
   "cell_type": "code",
   "execution_count": 43,
   "outputs": [
    {
     "name": "stdout",
     "output_type": "stream",
     "text": [
      "{'apiToken': '2894987a-4fdf-47cf-95a2-be3f2039cf79',\n",
      " 'apiTokenVersion': 0,\n",
      " 'customerUUID': 'f33e3c9b-75ab-4c30-80ad-cba85646ea39',\n",
      " 'userUUID': 'a9190fe6-1067-409f-95cf-dbd96893c9c9'}\n"
     ]
    }
   ],
   "source": [
    "import requests\n",
    "import os\n",
    "from pprint import pprint\n",
    "\n",
    "yba_url = os.getenv(\"YBA_URL\", \"http://192.168.56.102:9000\")\n",
    "yba_user = {\n",
    "    \"email\": os.getenv(\"YBA_USER_EMAIL\", \"admin\"),\n",
    "    \"password\": os.getenv(\"YBA_USER_PASSWORD\", \"admin\"),\n",
    "}\n",
    "\n",
    "route = f\"{yba_url}/api/v1/api_login\"\n",
    "payload = {\n",
    "    \"email\": yba_user[\"email\"],\n",
    "    \"password\": yba_user[\"password\"],\n",
    "}\n",
    "response = requests.post(url=route, json=payload).json()\n",
    "pprint(response)\n",
    "\n",
    "customer_uuid = response[\"customerUUID\"]\n",
    "yba_api_token = response[\"apiToken\"]\n",
    "headers = {\"X-AUTH-YW-API-TOKEN\": yba_api_token}"
   ],
   "metadata": {
    "collapsed": false,
    "ExecuteTime": {
     "end_time": "2023-11-28T17:36:57.915990475Z",
     "start_time": "2023-11-28T17:36:57.786197818Z"
    }
   },
   "id": "fa1d5dfbf5b0be4c"
  },
  {
   "cell_type": "markdown",
   "source": [
    "Then you can use `customer_uuid` as a url parameter and pass the `yba_api_token` in the request header with name `X-AUTH-YW-API-TOKEN` to show that the user is authenticated."
   ],
   "metadata": {
    "collapsed": false
   },
   "id": "b9aea6087ac4d139"
  },
  {
   "cell_type": "markdown",
   "source": [
    "## Get Storage Config UUID\n",
    "XCluster uses backup/restore for replicating existing data on the source universe, and a storage config is required to store the backup and then restore from. To get the storage config uuid, use the following code:"
   ],
   "metadata": {
    "collapsed": false
   },
   "id": "6c646777c75500b9"
  },
  {
   "cell_type": "code",
   "execution_count": 44,
   "outputs": [
    {
     "name": "stdout",
     "output_type": "stream",
     "text": [
      "301029d7-ebcc-4cd9-9dbb-c87775340d09\n"
     ]
    }
   ],
   "source": [
    "route = f\"{yba_url}/api/v1/customers/{customer_uuid}/configs\"\n",
    "response = requests.get(url=route, headers=headers).json()\n",
    "storage_configs = list(filter(lambda config: config[\"type\"] == \"STORAGE\", response))\n",
    "if len(storage_configs) < 1:\n",
    "    print(\"No storage config found\")\n",
    "    exit(-1)\n",
    "\n",
    "storage_config_uuid = storage_configs[0][\"configUUID\"]\n",
    "print(storage_config_uuid)"
   ],
   "metadata": {
    "collapsed": false,
    "ExecuteTime": {
     "end_time": "2023-11-28T17:37:00.613580906Z",
     "start_time": "2023-11-28T17:37:00.569533226Z"
    }
   },
   "id": "d52d71a0bfd33a3f"
  },
  {
   "cell_type": "markdown",
   "source": [
    "## List Tables on Source Universe\n",
    "XCluster APIs are at the table granularity. You need to pass the list of tables you would like to replicate to the xCluster API request bodies.\n",
    "Please note that although the xCluster APIs are at table granularity, but YBA only supports bootstrapping of YSQL tables with DB granularity, so if you would like to do an xCluster operation that requires bootstrapping of YSQL tables, you need to pass all the table UUIDs in a database.\n",
    "The following is how you can get the list of the tables for a universe:"
   ],
   "metadata": {
    "collapsed": false
   },
   "id": "1357d2090d15e4cb"
  },
  {
   "cell_type": "code",
   "execution_count": 45,
   "outputs": [
    {
     "name": "stdout",
     "output_type": "stream",
     "text": [
      "['0000407b-0000-3000-8000-000000004086',\n",
      " '0000407b-0000-3000-8000-000000004081',\n",
      " '0000407b-0000-3000-8000-00000000407c',\n",
      " '000033f3-0000-3000-8000-00000000407a',\n",
      " '000033f3-0000-3000-8000-000000004075',\n",
      " '000033f3-0000-3000-8000-000000004070']\n"
     ]
    }
   ],
   "source": [
    "source_universe_uuid = os.getenv(\n",
    "    \"YBA_SOURCE_UNIVERSE_UUID\", \"1e4f0c62-7c7a-40b8-bc3c-0a5d0e2a99c3\"\n",
    ")\n",
    "route = (f\"{yba_url}/api/v1/customers/{customer_uuid}/universes/{source_universe_uuid}/tables\"\n",
    "         f\"?includeParentTableInfo={str(False).lower()}&onlySupportedForXCluster={str(True).lower()}\")\n",
    "response = requests.get(url=route, headers=headers).json()\n",
    "all_ysql_tables_uuid_list = [\n",
    "    table[\"tableUUID\"]\n",
    "    for table in list(\n",
    "        filter(lambda table: table[\"tableType\"] == \"PGSQL_TABLE_TYPE\", response)\n",
    "    )\n",
    "]\n",
    "pprint(all_ysql_tables_uuid_list)"
   ],
   "metadata": {
    "collapsed": false,
    "ExecuteTime": {
     "end_time": "2023-11-28T17:37:07.069864069Z",
     "start_time": "2023-11-28T17:37:06.190375715Z"
    }
   },
   "id": "e50340274b0d39c2"
  },
  {
   "cell_type": "markdown",
   "source": [
    "## Waiting For XCluster Tasks\n",
    "The xCluster APIs will create a task in the backend and returns a task uuid which you can follow to see the progress and the status of the task. You can use the following function to wait for a task:"
   ],
   "metadata": {
    "collapsed": false
   },
   "id": "a87c1cb6ec63aae7"
  },
  {
   "cell_type": "code",
   "execution_count": 46,
   "outputs": [],
   "source": [
    "import time\n",
    "\n",
    "def waitForTask(task_uuid):\n",
    "    route = f\"{yba_url}/api/v1/customers/{customer_uuid}/tasks/{task_uuid}\"\n",
    "    while True:\n",
    "        response = requests.get(url=route, headers=headers).json()\n",
    "        status = response[\"status\"]\n",
    "        if status == \"Failure\":\n",
    "            route = f\"{yba_url}/api/customers/{customer_uuid}/tasks/{task_uuid}/failed\"\n",
    "            response = requests.get(url=route, headers=headers)\n",
    "            if response is not None:\n",
    "                response = response.json()\n",
    "                if \"failedSubTasks\" in response:\n",
    "                    errors = [\n",
    "                        subtask[\"errorString\"] for subtask in response[\"failedSubTasks\"]\n",
    "                    ]\n",
    "                    print(f\"Task {task_uuid} failed with the following errors:\")\n",
    "                    print(\"\\n\".join(errors))\n",
    "                else:\n",
    "                    pprint(response)\n",
    "            else:\n",
    "                print(\n",
    "                    f\"Task {task_uuid} failed, but could not get the failure messages\"\n",
    "                )\n",
    "            exit(-1)\n",
    "        elif status == \"Success\":\n",
    "            print(f\"Task {task_uuid} finished successfully\")\n",
    "            break\n",
    "        print(f\"Waiting for task {task_uuid}...\")\n",
    "        time.sleep(20)"
   ],
   "metadata": {
    "collapsed": false,
    "ExecuteTime": {
     "end_time": "2023-11-28T17:37:09.693496769Z",
     "start_time": "2023-11-28T17:37:09.688438850Z"
    }
   },
   "id": "bac17f7ed7bd129"
  },
  {
   "cell_type": "markdown",
   "source": [
    "## Creating XCluster Configs\n",
    "Now we have all the required information to successfully create a cross cluster replication from universe `source_universe_uuid` to `target_universe_uuid`. `configType` can be either `Basic` or `Txn`. `Txn` provides transactional guarantees while replicating the data.\n",
    "Please note that unless you have good reasons to skip bootstrapping, the list of tables in `.tables` and `.bootstrapParams.tables` should be the same."
   ],
   "metadata": {
    "collapsed": false
   },
   "id": "f1472d3eecf93e15"
  },
  {
   "cell_type": "code",
   "execution_count": 47,
   "outputs": [
    {
     "name": "stdout",
     "output_type": "stream",
     "text": [
      "{'resourceUUID': '769b74d6-80b4-465e-852e-ab93b8e2c4fc',\n",
      " 'taskUUID': '91834a5b-db5c-4a50-952a-2b506f2f1e26'}\n",
      "Waiting for task 91834a5b-db5c-4a50-952a-2b506f2f1e26...\n",
      "Task 91834a5b-db5c-4a50-952a-2b506f2f1e26 finished successfully\n"
     ]
    }
   ],
   "source": [
    "target_universe_uuid = os.getenv(\n",
    "    \"YBA_TARGET_UNIVERSE_UUID\", \"574d4b62-4940-4184-ad9f-f1b99c7bc495\"\n",
    ")\n",
    "route = f\"{yba_url}/api/v1/customers/{customer_uuid}/xcluster_configs\"\n",
    "payload = {\n",
    "    \"sourceUniverseUUID\": source_universe_uuid,\n",
    "    \"targetUniverseUUID\": target_universe_uuid,\n",
    "    \"name\": \"my-xcluster-config\",\n",
    "    \"tables\": all_ysql_tables_uuid_list,\n",
    "    \"configType\": \"Basic\",  # It could be Basic or Txn.\n",
    "    \"bootstrapParams\": {  # You can omit this field to forcefully avoid bootstrapping.\n",
    "        \"tables\": all_ysql_tables_uuid_list,\n",
    "        \"backupRequestParams\": {\"storageConfigUUID\": storage_config_uuid},\n",
    "    },\n",
    "}\n",
    "response = requests.post(url=route, json=payload, headers=headers).json()\n",
    "pprint(response)\n",
    "if \"taskUUID\" not in response:\n",
    "    print(f\"Failed to create the task: {response}\")\n",
    "    exit(-1)\n",
    "\n",
    "waitForTask(response[\"taskUUID\"])\n",
    "\n",
    "xcluster_config_uuid = response[\"resourceUUID\"]"
   ],
   "metadata": {
    "collapsed": false,
    "ExecuteTime": {
     "end_time": "2023-11-28T17:37:42.171480630Z",
     "start_time": "2023-11-28T17:37:19.597644890Z"
    }
   },
   "id": "662776b0e2ba61a5"
  },
  {
   "cell_type": "markdown",
   "source": [
    "## Getting XCluster Configs\n",
    "You can get the xCluster config using its uuid. See the following example."
   ],
   "metadata": {
    "collapsed": false
   },
   "id": "4e53f61b7e55bc93"
  },
  {
   "cell_type": "code",
   "execution_count": 48,
   "outputs": [
    {
     "name": "stdout",
     "output_type": "stream",
     "text": [
      "{'createTime': '2023-11-28T17:37:21Z',\n",
      " 'imported': False,\n",
      " 'lag': {'tserver_async_replication_lag_micros': {'data': [],\n",
      "                                                  'directURLs': ['http://localhost:9090/graph?g0.expr=avg%28max+by+%28exported_instance%2C+saved_name%29%28%7Bnode_prefix%3D%22yb-admin-hzare-gcp-1-src%22%2C+saved_name%3D%7E%22async_replication_sent_lag_micros%7Casync_replication_committed_lag_micros%22%2C+stream_id%3D%7E%228e6c53f4157f4efcbf9057976a736c28%7C7d5d5da42ceb48d4b2cf30af4ac3b79e%7Ce4d4dfaac5164bcbae7b24df7350437e%7Cd1fa5c98b3354ef6840ba365e72dc4a9%7Ce0f835e3dc5c465b8097b4650280ecb3%7C6f44a6dd14b84476bd8f2edb517e4990%22%7D%29%29+by+%28exported_instance%2C+saved_name%29+%2F+1000&g0.tab=0&g0.range_input=3600s&g0.end_input='],\n",
      "                                                  'layout': {'title': 'Async '\n",
      "                                                                      'Replication '\n",
      "                                                                      'Lag',\n",
      "                                                             'xaxis': {'alias': {},\n",
      "                                                                       'type': 'date'},\n",
      "                                                             'yaxis': {'alias': {'async_replication_committed_lag_micros': 'Committed '\n",
      "                                                                                                                           'Lag',\n",
      "                                                                                 'async_replication_sent_lag_micros': 'Sent '\n",
      "                                                                                                                      'Lag'},\n",
      "                                                                       'ticksuffix': '&nbsp;ms'}},\n",
      "                                                  'metricsLinkUseBrowserFqdn': True,\n",
      "                                                  'queryKey': 'tserver_async_replication_lag_micros'}},\n",
      " 'modifyTime': '2023-11-28T17:37:29Z',\n",
      " 'name': 'my-xcluster-config',\n",
      " 'paused': False,\n",
      " 'pitrConfigs': [],\n",
      " 'replicationGroupName': '1e4f0c62-7c7a-40b8-bc3c-0a5d0e2a99c3_my-xcluster-config',\n",
      " 'secondary': False,\n",
      " 'sourceActive': True,\n",
      " 'sourceUniverseState': 'Unconfigured for DR',\n",
      " 'sourceUniverseUUID': '1e4f0c62-7c7a-40b8-bc3c-0a5d0e2a99c3',\n",
      " 'status': 'Running',\n",
      " 'tableDetails': [{'bootstrapCreateTime': '2023-11-28T17:37:28Z',\n",
      "                   'indexTable': True,\n",
      "                   'needBootstrap': False,\n",
      "                   'replicationSetupDone': True,\n",
      "                   'status': 'Running',\n",
      "                   'streamId': '6f44a6dd14b84476bd8f2edb517e4990',\n",
      "                   'tableId': '0000407b000030008000000000004086'},\n",
      "                  {'bootstrapCreateTime': '2023-11-28T17:37:28Z',\n",
      "                   'indexTable': False,\n",
      "                   'needBootstrap': False,\n",
      "                   'replicationSetupDone': True,\n",
      "                   'status': 'Running',\n",
      "                   'streamId': 'e4d4dfaac5164bcbae7b24df7350437e',\n",
      "                   'tableId': '0000407b00003000800000000000407c'},\n",
      "                  {'bootstrapCreateTime': '2023-11-28T17:37:28Z',\n",
      "                   'indexTable': False,\n",
      "                   'needBootstrap': False,\n",
      "                   'replicationSetupDone': True,\n",
      "                   'status': 'Running',\n",
      "                   'streamId': '7d5d5da42ceb48d4b2cf30af4ac3b79e',\n",
      "                   'tableId': '0000407b000030008000000000004081'},\n",
      "                  {'bootstrapCreateTime': '2023-11-28T17:37:28Z',\n",
      "                   'indexTable': False,\n",
      "                   'needBootstrap': False,\n",
      "                   'replicationSetupDone': True,\n",
      "                   'status': 'Running',\n",
      "                   'streamId': 'd1fa5c98b3354ef6840ba365e72dc4a9',\n",
      "                   'tableId': '000033f3000030008000000000004070'},\n",
      "                  {'bootstrapCreateTime': '2023-11-28T17:37:28Z',\n",
      "                   'indexTable': True,\n",
      "                   'needBootstrap': False,\n",
      "                   'replicationSetupDone': True,\n",
      "                   'status': 'Running',\n",
      "                   'streamId': '8e6c53f4157f4efcbf9057976a736c28',\n",
      "                   'tableId': '000033f300003000800000000000407a'},\n",
      "                  {'bootstrapCreateTime': '2023-11-28T17:37:28Z',\n",
      "                   'indexTable': False,\n",
      "                   'needBootstrap': False,\n",
      "                   'replicationSetupDone': True,\n",
      "                   'status': 'Running',\n",
      "                   'streamId': 'e0f835e3dc5c465b8097b4650280ecb3',\n",
      "                   'tableId': '000033f3000030008000000000004075'}],\n",
      " 'tableType': 'YSQL',\n",
      " 'tables': ['0000407b000030008000000000004086',\n",
      "            '0000407b00003000800000000000407c',\n",
      "            '0000407b000030008000000000004081',\n",
      "            '000033f3000030008000000000004070',\n",
      "            '000033f300003000800000000000407a',\n",
      "            '000033f3000030008000000000004075'],\n",
      " 'targetActive': True,\n",
      " 'targetUniverseState': 'Unconfigured for DR',\n",
      " 'targetUniverseUUID': '574d4b62-4940-4184-ad9f-f1b99c7bc495',\n",
      " 'type': 'Basic',\n",
      " 'usedForDr': False,\n",
      " 'uuid': '769b74d6-80b4-465e-852e-ab93b8e2c4fc'}\n"
     ]
    }
   ],
   "source": [
    "route = f\"{yba_url}/api/v1/customers/{customer_uuid}/xcluster_configs/{xcluster_config_uuid}\"\n",
    "response = requests.get(url=route, headers=headers).json()\n",
    "pprint(response)"
   ],
   "metadata": {
    "collapsed": false,
    "ExecuteTime": {
     "end_time": "2023-11-28T17:37:48.985828499Z",
     "start_time": "2023-11-28T17:37:48.418428356Z"
    }
   },
   "id": "1490b024bb1272e3"
  },
  {
   "cell_type": "markdown",
   "source": [
    "## Modifying Tables in XCluster Configs\n",
    "You can add/remove tables to/from an existing xCluster config. This is useful when you would like to add new tables to your database after the replication is set up, or you would like to drop a table from your database.\n",
    "Please note that to drop a table from your database, *first you need to remove that table from the xCluster config.*\n",
    "To modify the tables in replication in an xCluster config, you need to pass the list of the tables that you would like to be in replication. In other words, you remove the table UUIDs that you do not want to be replicated, and add the new table uuids you want to replication. See the following example. "
   ],
   "metadata": {
    "collapsed": false
   },
   "id": "bcd301d7ae19175d"
  },
  {
   "cell_type": "code",
   "execution_count": 49,
   "outputs": [
    {
     "name": "stdout",
     "output_type": "stream",
     "text": [
      "{'resourceUUID': '769b74d6-80b4-465e-852e-ab93b8e2c4fc',\n",
      " 'taskUUID': 'ddb8633b-1337-40fa-971c-8bc64f8fb19d'}\n",
      "Waiting for task ddb8633b-1337-40fa-971c-8bc64f8fb19d...\n",
      "Task ddb8633b-1337-40fa-971c-8bc64f8fb19d finished successfully\n",
      "{'resourceUUID': '769b74d6-80b4-465e-852e-ab93b8e2c4fc',\n",
      " 'taskUUID': '608b6c71-7945-41f7-8ac0-b17530645f70'}\n",
      "Waiting for task 608b6c71-7945-41f7-8ac0-b17530645f70...\n",
      "Task 608b6c71-7945-41f7-8ac0-b17530645f70 finished successfully\n"
     ]
    }
   ],
   "source": [
    "# Remove tables.\n",
    "route = f\"{yba_url}/api/v1/customers/{customer_uuid}/xcluster_configs/{xcluster_config_uuid}\"\n",
    "payload = {\n",
    "    \"tables\": all_ysql_tables_uuid_list[:-2],\n",
    "}\n",
    "response = requests.put(url=route, json=payload, headers=headers).json()\n",
    "pprint(response)\n",
    "if \"taskUUID\" not in response:\n",
    "    print(f\"Failed to create the task: {response}\")\n",
    "    exit(-1)\n",
    "\n",
    "waitForTask(response[\"taskUUID\"])\n",
    "\n",
    "# Add tables.\n",
    "route = f\"{yba_url}/api/v1/customers/{customer_uuid}/xcluster_configs/{xcluster_config_uuid}\"\n",
    "payload = {\n",
    "    \"tables\": all_ysql_tables_uuid_list,\n",
    "    \"bootstrapParams\": {  # You can omit this field to forcefully avoid bootstrapping.\n",
    "        \"tables\": all_ysql_tables_uuid_list,\n",
    "        \"backupRequestParams\": {\"storageConfigUUID\": storage_config_uuid},\n",
    "    },\n",
    "}\n",
    "response = requests.put(url=route, json=payload, headers=headers).json()\n",
    "pprint(response)\n",
    "if \"taskUUID\" not in response:\n",
    "    print(f\"Failed to create the task: {response}\")\n",
    "    exit(-1)\n",
    "\n",
    "waitForTask(response[\"taskUUID\"])"
   ],
   "metadata": {
    "collapsed": false,
    "ExecuteTime": {
     "end_time": "2023-11-28T17:39:08.705537555Z",
     "start_time": "2023-11-28T17:38:25.369798607Z"
    }
   },
   "id": "40a4660edd44ff9a"
  },
  {
   "cell_type": "markdown",
   "source": [
    "## Reconciling XCluster Configs with YBDB State\n",
    "Sometimes, it is required to make changes to the replication group using yb-admin. In these cases, the corresponding xCluster config in YBA will not be automatically updated to learn about the yb-admin changes, and a manual synchronization call is required as follows:"
   ],
   "metadata": {
    "collapsed": false
   },
   "id": "251a35f0396f90a8"
  },
  {
   "cell_type": "code",
   "execution_count": 50,
   "outputs": [
    {
     "name": "stdout",
     "output_type": "stream",
     "text": [
      "Waiting for task 9cc7ff3d-d0fa-4c8a-aad5-f10bd29e29d3...\n",
      "Task 9cc7ff3d-d0fa-4c8a-aad5-f10bd29e29d3 finished successfully\n"
     ]
    }
   ],
   "source": [
    "route = (\n",
    "    f\"{yba_url}/api/v1/customers/{customer_uuid}/xcluster_configs/sync\"\n",
    "    f\"?targetUniverseUUID={target_universe_uuid}\"\n",
    ")\n",
    "response = requests.post(url=route, headers=headers).json()\n",
    "if \"taskUUID\" not in response:\n",
    "    print(f\"Failed to create the task: {response}\")\n",
    "    exit(-1)\n",
    "\n",
    "waitForTask(response[\"taskUUID\"])"
   ],
   "metadata": {
    "collapsed": false,
    "ExecuteTime": {
     "end_time": "2023-11-28T17:39:42.862227011Z",
     "start_time": "2023-11-28T17:39:22.653449280Z"
    }
   },
   "id": "7c08650aa05415b"
  },
  {
   "cell_type": "markdown",
   "source": [
    "## Restarting XCluster Configs\n",
    "The replication between two universes can break for various reasons including temporary network partitions. In these cases, after the issue is resolved, you can restart replication. You may also include index tables to the replication by restarting the replication for their main tables."
   ],
   "metadata": {
    "collapsed": false
   },
   "id": "9f72bc2ff3e70869"
  },
  {
   "cell_type": "code",
   "execution_count": 51,
   "outputs": [
    {
     "name": "stdout",
     "output_type": "stream",
     "text": [
      "{'resourceUUID': '769b74d6-80b4-465e-852e-ab93b8e2c4fc',\n",
      " 'taskUUID': '9309cb89-6ab1-4d74-9390-fdf1d7c5a4df'}\n",
      "Waiting for task 9309cb89-6ab1-4d74-9390-fdf1d7c5a4df...\n",
      "Task 9309cb89-6ab1-4d74-9390-fdf1d7c5a4df finished successfully\n"
     ]
    }
   ],
   "source": [
    "route = f\"{yba_url}/api/v1/customers/{customer_uuid}/xcluster_configs/{xcluster_config_uuid}\"\n",
    "payload = {\n",
    "    \"tables\": all_ysql_tables_uuid_list,\n",
    "    \"bootstrapParams\": {\n",
    "        \"backupRequestParams\": {\"storageConfigUUID\": storage_config_uuid},\n",
    "    },\n",
    "}\n",
    "response = requests.post(url=route, json=payload, headers=headers).json()\n",
    "pprint(response)\n",
    "if \"taskUUID\" not in response:\n",
    "    print(f\"Failed to create the task: {response}\")\n",
    "    exit(-1)\n",
    "\n",
    "waitForTask(response[\"taskUUID\"])"
   ],
   "metadata": {
    "collapsed": false,
    "ExecuteTime": {
     "end_time": "2023-11-28T17:40:10.093098102Z",
     "start_time": "2023-11-28T17:39:47.517772172Z"
    }
   },
   "id": "7271fc6aaf86cca4"
  },
  {
   "cell_type": "markdown",
   "source": [
    "## Pausing/Resuming XCluster Configs\n",
    "You can pause the replication for some time and then resume it. Please note that if the replication is paused for an extended period of time, a replication restart is required."
   ],
   "metadata": {
    "collapsed": false
   },
   "id": "7a87161a36b20b9b"
  },
  {
   "cell_type": "code",
   "execution_count": 52,
   "outputs": [
    {
     "name": "stdout",
     "output_type": "stream",
     "text": [
      "{'resourceUUID': '769b74d6-80b4-465e-852e-ab93b8e2c4fc',\n",
      " 'taskUUID': 'ad277f56-2bb8-4d35-9037-63adc03daa73'}\n",
      "Waiting for task ad277f56-2bb8-4d35-9037-63adc03daa73...\n",
      "Task ad277f56-2bb8-4d35-9037-63adc03daa73 finished successfully\n",
      "{'resourceUUID': '769b74d6-80b4-465e-852e-ab93b8e2c4fc',\n",
      " 'taskUUID': 'c90287e0-e5fe-462d-9330-752ab4e08d18'}\n",
      "Waiting for task c90287e0-e5fe-462d-9330-752ab4e08d18...\n",
      "Task c90287e0-e5fe-462d-9330-752ab4e08d18 finished successfully\n"
     ]
    }
   ],
   "source": [
    "# Pause the replication.\n",
    "route = f\"{yba_url}/api/v1/customers/{customer_uuid}/xcluster_configs/{xcluster_config_uuid}\"\n",
    "payload = {\"status\": \"Paused\"}\n",
    "response = requests.put(url=route, json=payload, headers=headers).json()\n",
    "pprint(response)\n",
    "if \"taskUUID\" not in response:\n",
    "    print(f\"Failed to create the task: {response}\")\n",
    "    exit(-1)\n",
    "\n",
    "waitForTask(response[\"taskUUID\"])\n",
    "\n",
    "# Resume the replication.\n",
    "route = f\"{yba_url}/api/v1/customers/{customer_uuid}/xcluster_configs/{xcluster_config_uuid}\"\n",
    "payload = {\"status\": \"Running\"}\n",
    "response = requests.put(url=route, json=payload, headers=headers).json()\n",
    "pprint(response)\n",
    "if \"taskUUID\" not in response:\n",
    "    print(f\"Failed to create the task: {response}\")\n",
    "    exit(-1)\n",
    "\n",
    "waitForTask(response[\"taskUUID\"])"
   ],
   "metadata": {
    "collapsed": false,
    "ExecuteTime": {
     "end_time": "2023-11-28T17:40:53.912217186Z",
     "start_time": "2023-11-28T17:40:13.357413907Z"
    }
   },
   "id": "7dd081b700e0dbe0"
  },
  {
   "cell_type": "markdown",
   "source": [
    "## Deleting XCluster Configs\n",
    "You can delete the xCluster config so there is no replication relation between the two universes. Please note that `isForceDelete` is useful when one of the universes is not available or there is an issue with the config. In those cases, you pass `True` and it will ignore errors and delete the config."
   ],
   "metadata": {
    "collapsed": false
   },
   "id": "d10a9e3b9cd61f75"
  },
  {
   "cell_type": "code",
   "execution_count": 53,
   "outputs": [
    {
     "name": "stdout",
     "output_type": "stream",
     "text": [
      "{'resourceUUID': '769b74d6-80b4-465e-852e-ab93b8e2c4fc',\n",
      " 'taskUUID': '04e7370b-d00e-44f1-8393-f1f21f2a9f1f'}\n",
      "Waiting for task 04e7370b-d00e-44f1-8393-f1f21f2a9f1f...\n",
      "Task 04e7370b-d00e-44f1-8393-f1f21f2a9f1f finished successfully\n"
     ]
    }
   ],
   "source": [
    "route = (f\"{yba_url}/api/v1/customers/{customer_uuid}/xcluster_configs/{xcluster_config_uuid}\"\n",
    "         f\"?isForceDelete={str(False).lower()}\")\n",
    "response = requests.delete(url=route, headers=headers).json()\n",
    "pprint(response)\n",
    "if \"taskUUID\" not in response:\n",
    "    print(f\"Failed to create the task: {response}\")\n",
    "    exit(-1)\n",
    "\n",
    "waitForTask(response[\"taskUUID\"])"
   ],
   "metadata": {
    "collapsed": false,
    "ExecuteTime": {
     "end_time": "2023-11-28T17:41:17.231999967Z",
     "start_time": "2023-11-28T17:40:56.995660160Z"
    }
   },
   "id": "8a731fca0e0df322"
  },
  {
   "cell_type": "code",
   "execution_count": null,
   "outputs": [],
   "source": [],
   "metadata": {
    "collapsed": false
   },
   "id": "238a753b5a000a6c"
  }
 ],
 "metadata": {
  "kernelspec": {
   "display_name": "Python 3",
   "language": "python",
   "name": "python3"
  },
  "language_info": {
   "codemirror_mode": {
    "name": "ipython",
    "version": 2
   },
   "file_extension": ".py",
   "mimetype": "text/x-python",
   "name": "python",
   "nbconvert_exporter": "python",
   "pygments_lexer": "ipython2",
   "version": "2.7.6"
  }
 },
 "nbformat": 4,
 "nbformat_minor": 5
}
